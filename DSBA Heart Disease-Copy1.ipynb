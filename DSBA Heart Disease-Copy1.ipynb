{
 "cells": [
  {
   "cell_type": "markdown",
   "metadata": {},
   "source": [
    "## Capstone 1: Heart Disease "
   ]
  },
  {
   "cell_type": "markdown",
   "metadata": {},
   "source": [
    "## Data"
   ]
  },
  {
   "cell_type": "markdown",
   "metadata": {},
   "source": [
    "The dataset used in this project comes from four different sources.\n",
    "    \n",
    "     1. Cleveland Clinic Foundation \n",
    "     2. Hungarian Institute of Cardiology, Budapest \n",
    "     3. V.A. Medical Center, Long Beach, CA \n",
    "     4. University Hospital, Zurich, Switzerland \n",
    "\n",
    "The raw dataset contains 76 attributes, however all published experiments refer to using a set of 14 chosen from the larger collection. Thise 14 data indicators are age, sex, chest pain type, resting blood pressure, cholesterol level, fasting blood sugar, resting electrocardiographic results maximum heart rate achieved, exercize induced angina(true/false), ST depression induced by exercize related to rest, the slope of the peak exercize ST segment, number of major vessels colored by fluorosopy, thallium test result, heart disease risk value. The attributes were gathered to study and try to predict the presence of heart disease in a patient. The risk value refers to the presence of heart disease in the patient. It is integer valued from 0 (no presence) to 4. This report does not investigate any further than how such risk values were attributed. \n",
    "   \n",
    "It is unclear however, if the patients were admitted into the hospital's care because of suspected heart disease risk or if the patients come from a more general selection pool. Thusly, these results may not reflect a wide percentage of the population at hand. It is also recognizd that this dataset was curated no later then July 1988, as such this dataset would not reflect the results of present day trends of health and culture with respect to heart disease. \n",
    "\n",
    "With that said, this report addresses three seperate questions relating to the nature and statistical relationship between the distinct locations of the data as well as some of the attributes therein. The questions are as follows:\n",
    "\n",
    "Question 1 - Does there seem to be an average prediction risk value of heart disease shared among the data, or does one location stand out from the rest?\n",
    "\n",
    "Question 2 - Does the data reflect an increased risk for heart disease in older patients?\n",
    "\n",
    "Question 3 - How probable is a patient in the dataset to have a higher than average risk of heart disease if their cholesterol level is above 200 mg/dL?"
   ]
  },
  {
   "cell_type": "code",
   "execution_count": null,
   "metadata": {},
   "outputs": [],
   "source": []
  },
  {
   "cell_type": "markdown",
   "metadata": {},
   "source": [
    "## Analysis"
   ]
  },
  {
   "cell_type": "markdown",
   "metadata": {},
   "source": [
    "If we are to ascertain any results based upon averages and standard deviations wih respect to the dataset, we would first like to address the normality of the data set. Plotting each location's Age data frame against a sample set in a QQplot will tell us if the collected age instances of each data set tend too much to the older or younger years, as well as highlight the presence of any outliers we may have to deal with going forward. Although each qqplot has a generally linear trend, we note that all data sets in this study contain traces of tails, and inherently outliers with respect to age. Overall the linear trend of each qqplot seem to suggest a high probability of normality, thusly we continue on to address some finer points of interest in this study."
   ]
  },
  {
   "cell_type": "code",
   "execution_count": 3,
   "metadata": {},
   "outputs": [],
   "source": [
    "import numpy as np # Import necessary libraries\n",
    "import pandas as pd  \n",
    "import datetime\n",
    "import matplotlib.pyplot as plt\n",
    "%matplotlib inline\n",
    "    \n",
    "df_clv = pd.read_csv('cleveland.names.csv', sep=',') # Read the four raw .csv file, store into data frames\n",
    "df_clv.replace('?', 0, inplace=True)\n",
    "\n",
    "df_lngb = pd.read_csv('va.names.csv', sep=',')\n",
    "df_lngb.replace('?', 0, inplace=True)\n",
    "\n",
    "df_swtz = pd.read_csv('switz.names.csv', sep=',')\n",
    "df_swtz.replace('?', 0, inplace=True)\n",
    "\n",
    "df_hun = pd.read_csv('hungarian.names.csv', sep=',')\n",
    "df_hun.replace('?', 0, inplace=True)"
   ]
  },
  {
   "cell_type": "code",
   "execution_count": 4,
   "metadata": {},
   "outputs": [
    {
     "name": "stdout",
     "output_type": "stream",
     "text": [
      "<class 'pandas.core.frame.DataFrame'>\n",
      "RangeIndex: 303 entries, 0 to 302\n",
      "Data columns (total 14 columns):\n",
      " #   Column      Non-Null Count  Dtype  \n",
      "---  ------      --------------  -----  \n",
      " 0   Age         303 non-null    int64  \n",
      " 1   Sex         303 non-null    bool   \n",
      " 2   cp          303 non-null    int64  \n",
      " 3   trestbps    303 non-null    int64  \n",
      " 4   cholestrol  303 non-null    int64  \n",
      " 5   fbs         303 non-null    bool   \n",
      " 6   restecg     303 non-null    int64  \n",
      " 7   thalach     303 non-null    int64  \n",
      " 8   exang       303 non-null    bool   \n",
      " 9   oldpeak     303 non-null    float64\n",
      " 10  slope       303 non-null    int64  \n",
      " 11  ca          299 non-null    float64\n",
      " 12  thal        301 non-null    float64\n",
      " 13  target      303 non-null    int64  \n",
      "dtypes: bool(3), float64(3), int64(8)\n",
      "memory usage: 27.1 KB\n"
     ]
    }
   ],
   "source": [
    "df_clv.info()"
   ]
  },
  {
   "cell_type": "code",
   "execution_count": 5,
   "metadata": {},
   "outputs": [
    {
     "name": "stdout",
     "output_type": "stream",
     "text": [
      "<class 'pandas.core.frame.DataFrame'>\n",
      "RangeIndex: 200 entries, 0 to 199\n",
      "Data columns (total 14 columns):\n",
      " #   Column      Non-Null Count  Dtype  \n",
      "---  ------      --------------  -----  \n",
      " 0   Age         200 non-null    int64  \n",
      " 1   Sex         200 non-null    bool   \n",
      " 2   cp          200 non-null    int64  \n",
      " 3   trestbps    144 non-null    float64\n",
      " 4   cholestrol  193 non-null    float64\n",
      " 5   fbs         193 non-null    float64\n",
      " 6   restecg     200 non-null    int64  \n",
      " 7   thalach     147 non-null    float64\n",
      " 8   exang       147 non-null    float64\n",
      " 9   oldpeak     144 non-null    float64\n",
      " 10  slope       98 non-null     float64\n",
      " 11  ca          2 non-null      float64\n",
      " 12  thal        34 non-null     float64\n",
      " 13  target      200 non-null    int64  \n",
      "dtypes: bool(1), float64(9), int64(4)\n",
      "memory usage: 20.6 KB\n"
     ]
    }
   ],
   "source": [
    "df_lngb.info()"
   ]
  },
  {
   "cell_type": "code",
   "execution_count": 6,
   "metadata": {},
   "outputs": [
    {
     "name": "stdout",
     "output_type": "stream",
     "text": [
      "<class 'pandas.core.frame.DataFrame'>\n",
      "RangeIndex: 123 entries, 0 to 122\n",
      "Data columns (total 14 columns):\n",
      " #   Column      Non-Null Count  Dtype  \n",
      "---  ------      --------------  -----  \n",
      " 0   Age         123 non-null    int64  \n",
      " 1   Sex         123 non-null    bool   \n",
      " 2   cp          123 non-null    int64  \n",
      " 3   trestbps    121 non-null    float64\n",
      " 4   cholestrol  123 non-null    bool   \n",
      " 5   fbs         48 non-null     float64\n",
      " 6   restecg     122 non-null    float64\n",
      " 7   thalach     122 non-null    float64\n",
      " 8   exang       122 non-null    float64\n",
      " 9   oldpeak     117 non-null    float64\n",
      " 10  slope       106 non-null    float64\n",
      " 11  ca          5 non-null      float64\n",
      " 12  thal        71 non-null     float64\n",
      " 13  target      123 non-null    int64  \n",
      "dtypes: bool(2), float64(9), int64(3)\n",
      "memory usage: 11.9 KB\n"
     ]
    }
   ],
   "source": [
    "df_swtz.info()"
   ]
  },
  {
   "cell_type": "code",
   "execution_count": 7,
   "metadata": {},
   "outputs": [
    {
     "name": "stdout",
     "output_type": "stream",
     "text": [
      "<class 'pandas.core.frame.DataFrame'>\n",
      "RangeIndex: 294 entries, 0 to 293\n",
      "Data columns (total 14 columns):\n",
      " #   Column      Non-Null Count  Dtype  \n",
      "---  ------      --------------  -----  \n",
      " 0   Age         294 non-null    int64  \n",
      " 1   Sex         294 non-null    bool   \n",
      " 2   cp          294 non-null    int64  \n",
      " 3   trestbps    293 non-null    float64\n",
      " 4   cholestrol  271 non-null    float64\n",
      " 5   fbs         286 non-null    float64\n",
      " 6   restecg     293 non-null    float64\n",
      " 7   thalach     293 non-null    float64\n",
      " 8   exang       293 non-null    float64\n",
      " 9   oldpeak     294 non-null    float64\n",
      " 10  slope       104 non-null    float64\n",
      " 11  ca          3 non-null      float64\n",
      " 12  thal        28 non-null     float64\n",
      " 13  target      294 non-null    bool   \n",
      "dtypes: bool(2), float64(10), int64(2)\n",
      "memory usage: 28.3 KB\n"
     ]
    }
   ],
   "source": [
    "df_hun.info()"
   ]
  },
  {
   "cell_type": "code",
   "execution_count": 8,
   "metadata": {},
   "outputs": [
    {
     "data": {
      "text/html": [
       "<div>\n",
       "<style scoped>\n",
       "    .dataframe tbody tr th:only-of-type {\n",
       "        vertical-align: middle;\n",
       "    }\n",
       "\n",
       "    .dataframe tbody tr th {\n",
       "        vertical-align: top;\n",
       "    }\n",
       "\n",
       "    .dataframe thead th {\n",
       "        text-align: right;\n",
       "    }\n",
       "</style>\n",
       "<table border=\"1\" class=\"dataframe\">\n",
       "  <thead>\n",
       "    <tr style=\"text-align: right;\">\n",
       "      <th></th>\n",
       "      <th>Age</th>\n",
       "      <th>cp</th>\n",
       "      <th>trestbps</th>\n",
       "      <th>cholestrol</th>\n",
       "      <th>restecg</th>\n",
       "      <th>thalach</th>\n",
       "      <th>oldpeak</th>\n",
       "      <th>slope</th>\n",
       "      <th>ca</th>\n",
       "      <th>thal</th>\n",
       "      <th>target</th>\n",
       "    </tr>\n",
       "  </thead>\n",
       "  <tbody>\n",
       "    <tr>\n",
       "      <th>count</th>\n",
       "      <td>303.000000</td>\n",
       "      <td>303.000000</td>\n",
       "      <td>303.000000</td>\n",
       "      <td>303.000000</td>\n",
       "      <td>303.000000</td>\n",
       "      <td>303.000000</td>\n",
       "      <td>303.000000</td>\n",
       "      <td>303.000000</td>\n",
       "      <td>299.000000</td>\n",
       "      <td>301.000000</td>\n",
       "      <td>303.000000</td>\n",
       "    </tr>\n",
       "    <tr>\n",
       "      <th>mean</th>\n",
       "      <td>54.438944</td>\n",
       "      <td>3.158416</td>\n",
       "      <td>131.689769</td>\n",
       "      <td>246.693069</td>\n",
       "      <td>0.990099</td>\n",
       "      <td>149.607261</td>\n",
       "      <td>1.039604</td>\n",
       "      <td>1.600660</td>\n",
       "      <td>0.672241</td>\n",
       "      <td>4.734219</td>\n",
       "      <td>0.937294</td>\n",
       "    </tr>\n",
       "    <tr>\n",
       "      <th>std</th>\n",
       "      <td>9.038662</td>\n",
       "      <td>0.960126</td>\n",
       "      <td>17.599748</td>\n",
       "      <td>51.776918</td>\n",
       "      <td>0.994971</td>\n",
       "      <td>22.875003</td>\n",
       "      <td>1.161075</td>\n",
       "      <td>0.616226</td>\n",
       "      <td>0.937438</td>\n",
       "      <td>1.939706</td>\n",
       "      <td>1.228536</td>\n",
       "    </tr>\n",
       "    <tr>\n",
       "      <th>min</th>\n",
       "      <td>29.000000</td>\n",
       "      <td>1.000000</td>\n",
       "      <td>94.000000</td>\n",
       "      <td>126.000000</td>\n",
       "      <td>0.000000</td>\n",
       "      <td>71.000000</td>\n",
       "      <td>0.000000</td>\n",
       "      <td>1.000000</td>\n",
       "      <td>0.000000</td>\n",
       "      <td>3.000000</td>\n",
       "      <td>0.000000</td>\n",
       "    </tr>\n",
       "    <tr>\n",
       "      <th>25%</th>\n",
       "      <td>48.000000</td>\n",
       "      <td>3.000000</td>\n",
       "      <td>120.000000</td>\n",
       "      <td>211.000000</td>\n",
       "      <td>0.000000</td>\n",
       "      <td>133.500000</td>\n",
       "      <td>0.000000</td>\n",
       "      <td>1.000000</td>\n",
       "      <td>0.000000</td>\n",
       "      <td>3.000000</td>\n",
       "      <td>0.000000</td>\n",
       "    </tr>\n",
       "    <tr>\n",
       "      <th>50%</th>\n",
       "      <td>56.000000</td>\n",
       "      <td>3.000000</td>\n",
       "      <td>130.000000</td>\n",
       "      <td>241.000000</td>\n",
       "      <td>1.000000</td>\n",
       "      <td>153.000000</td>\n",
       "      <td>0.800000</td>\n",
       "      <td>2.000000</td>\n",
       "      <td>0.000000</td>\n",
       "      <td>3.000000</td>\n",
       "      <td>0.000000</td>\n",
       "    </tr>\n",
       "    <tr>\n",
       "      <th>75%</th>\n",
       "      <td>61.000000</td>\n",
       "      <td>4.000000</td>\n",
       "      <td>140.000000</td>\n",
       "      <td>275.000000</td>\n",
       "      <td>2.000000</td>\n",
       "      <td>166.000000</td>\n",
       "      <td>1.600000</td>\n",
       "      <td>2.000000</td>\n",
       "      <td>1.000000</td>\n",
       "      <td>7.000000</td>\n",
       "      <td>2.000000</td>\n",
       "    </tr>\n",
       "    <tr>\n",
       "      <th>max</th>\n",
       "      <td>77.000000</td>\n",
       "      <td>4.000000</td>\n",
       "      <td>200.000000</td>\n",
       "      <td>564.000000</td>\n",
       "      <td>2.000000</td>\n",
       "      <td>202.000000</td>\n",
       "      <td>6.200000</td>\n",
       "      <td>3.000000</td>\n",
       "      <td>3.000000</td>\n",
       "      <td>7.000000</td>\n",
       "      <td>4.000000</td>\n",
       "    </tr>\n",
       "  </tbody>\n",
       "</table>\n",
       "</div>"
      ],
      "text/plain": [
       "              Age          cp    trestbps  cholestrol     restecg     thalach  \\\n",
       "count  303.000000  303.000000  303.000000  303.000000  303.000000  303.000000   \n",
       "mean    54.438944    3.158416  131.689769  246.693069    0.990099  149.607261   \n",
       "std      9.038662    0.960126   17.599748   51.776918    0.994971   22.875003   \n",
       "min     29.000000    1.000000   94.000000  126.000000    0.000000   71.000000   \n",
       "25%     48.000000    3.000000  120.000000  211.000000    0.000000  133.500000   \n",
       "50%     56.000000    3.000000  130.000000  241.000000    1.000000  153.000000   \n",
       "75%     61.000000    4.000000  140.000000  275.000000    2.000000  166.000000   \n",
       "max     77.000000    4.000000  200.000000  564.000000    2.000000  202.000000   \n",
       "\n",
       "          oldpeak       slope          ca        thal      target  \n",
       "count  303.000000  303.000000  299.000000  301.000000  303.000000  \n",
       "mean     1.039604    1.600660    0.672241    4.734219    0.937294  \n",
       "std      1.161075    0.616226    0.937438    1.939706    1.228536  \n",
       "min      0.000000    1.000000    0.000000    3.000000    0.000000  \n",
       "25%      0.000000    1.000000    0.000000    3.000000    0.000000  \n",
       "50%      0.800000    2.000000    0.000000    3.000000    0.000000  \n",
       "75%      1.600000    2.000000    1.000000    7.000000    2.000000  \n",
       "max      6.200000    3.000000    3.000000    7.000000    4.000000  "
      ]
     },
     "execution_count": 8,
     "metadata": {},
     "output_type": "execute_result"
    }
   ],
   "source": [
    "df_clv.describe()"
   ]
  },
  {
   "cell_type": "code",
   "execution_count": 9,
   "metadata": {},
   "outputs": [
    {
     "data": {
      "text/html": [
       "<div>\n",
       "<style scoped>\n",
       "    .dataframe tbody tr th:only-of-type {\n",
       "        vertical-align: middle;\n",
       "    }\n",
       "\n",
       "    .dataframe tbody tr th {\n",
       "        vertical-align: top;\n",
       "    }\n",
       "\n",
       "    .dataframe thead th {\n",
       "        text-align: right;\n",
       "    }\n",
       "</style>\n",
       "<table border=\"1\" class=\"dataframe\">\n",
       "  <thead>\n",
       "    <tr style=\"text-align: right;\">\n",
       "      <th></th>\n",
       "      <th>Age</th>\n",
       "      <th>cp</th>\n",
       "      <th>trestbps</th>\n",
       "      <th>cholestrol</th>\n",
       "      <th>fbs</th>\n",
       "      <th>restecg</th>\n",
       "      <th>thalach</th>\n",
       "      <th>exang</th>\n",
       "      <th>oldpeak</th>\n",
       "      <th>slope</th>\n",
       "      <th>ca</th>\n",
       "      <th>thal</th>\n",
       "      <th>target</th>\n",
       "    </tr>\n",
       "  </thead>\n",
       "  <tbody>\n",
       "    <tr>\n",
       "      <th>count</th>\n",
       "      <td>200.000000</td>\n",
       "      <td>200.000000</td>\n",
       "      <td>144.000000</td>\n",
       "      <td>193.000000</td>\n",
       "      <td>193.000000</td>\n",
       "      <td>200.000000</td>\n",
       "      <td>147.000000</td>\n",
       "      <td>147.000000</td>\n",
       "      <td>144.000000</td>\n",
       "      <td>98.000000</td>\n",
       "      <td>2.0</td>\n",
       "      <td>34.000000</td>\n",
       "      <td>200.000000</td>\n",
       "    </tr>\n",
       "    <tr>\n",
       "      <th>mean</th>\n",
       "      <td>59.350000</td>\n",
       "      <td>3.505000</td>\n",
       "      <td>133.763889</td>\n",
       "      <td>178.746114</td>\n",
       "      <td>0.352332</td>\n",
       "      <td>0.735000</td>\n",
       "      <td>122.795918</td>\n",
       "      <td>0.646259</td>\n",
       "      <td>1.320833</td>\n",
       "      <td>2.132653</td>\n",
       "      <td>0.0</td>\n",
       "      <td>6.294118</td>\n",
       "      <td>1.520000</td>\n",
       "    </tr>\n",
       "    <tr>\n",
       "      <th>std</th>\n",
       "      <td>7.811697</td>\n",
       "      <td>0.795701</td>\n",
       "      <td>21.537733</td>\n",
       "      <td>114.035232</td>\n",
       "      <td>0.478939</td>\n",
       "      <td>0.683455</td>\n",
       "      <td>21.990328</td>\n",
       "      <td>0.479765</td>\n",
       "      <td>1.106236</td>\n",
       "      <td>0.667937</td>\n",
       "      <td>0.0</td>\n",
       "      <td>1.291685</td>\n",
       "      <td>1.219441</td>\n",
       "    </tr>\n",
       "    <tr>\n",
       "      <th>min</th>\n",
       "      <td>35.000000</td>\n",
       "      <td>1.000000</td>\n",
       "      <td>0.000000</td>\n",
       "      <td>0.000000</td>\n",
       "      <td>0.000000</td>\n",
       "      <td>0.000000</td>\n",
       "      <td>69.000000</td>\n",
       "      <td>0.000000</td>\n",
       "      <td>-0.500000</td>\n",
       "      <td>1.000000</td>\n",
       "      <td>0.0</td>\n",
       "      <td>3.000000</td>\n",
       "      <td>0.000000</td>\n",
       "    </tr>\n",
       "    <tr>\n",
       "      <th>25%</th>\n",
       "      <td>55.000000</td>\n",
       "      <td>3.000000</td>\n",
       "      <td>120.000000</td>\n",
       "      <td>0.000000</td>\n",
       "      <td>0.000000</td>\n",
       "      <td>0.000000</td>\n",
       "      <td>109.000000</td>\n",
       "      <td>0.000000</td>\n",
       "      <td>0.000000</td>\n",
       "      <td>2.000000</td>\n",
       "      <td>0.0</td>\n",
       "      <td>6.000000</td>\n",
       "      <td>0.000000</td>\n",
       "    </tr>\n",
       "    <tr>\n",
       "      <th>50%</th>\n",
       "      <td>60.000000</td>\n",
       "      <td>4.000000</td>\n",
       "      <td>130.000000</td>\n",
       "      <td>216.000000</td>\n",
       "      <td>0.000000</td>\n",
       "      <td>1.000000</td>\n",
       "      <td>120.000000</td>\n",
       "      <td>1.000000</td>\n",
       "      <td>1.500000</td>\n",
       "      <td>2.000000</td>\n",
       "      <td>0.0</td>\n",
       "      <td>7.000000</td>\n",
       "      <td>1.000000</td>\n",
       "    </tr>\n",
       "    <tr>\n",
       "      <th>75%</th>\n",
       "      <td>64.000000</td>\n",
       "      <td>4.000000</td>\n",
       "      <td>147.000000</td>\n",
       "      <td>258.000000</td>\n",
       "      <td>1.000000</td>\n",
       "      <td>1.000000</td>\n",
       "      <td>140.000000</td>\n",
       "      <td>1.000000</td>\n",
       "      <td>2.000000</td>\n",
       "      <td>3.000000</td>\n",
       "      <td>0.0</td>\n",
       "      <td>7.000000</td>\n",
       "      <td>3.000000</td>\n",
       "    </tr>\n",
       "    <tr>\n",
       "      <th>max</th>\n",
       "      <td>77.000000</td>\n",
       "      <td>4.000000</td>\n",
       "      <td>190.000000</td>\n",
       "      <td>458.000000</td>\n",
       "      <td>1.000000</td>\n",
       "      <td>2.000000</td>\n",
       "      <td>180.000000</td>\n",
       "      <td>1.000000</td>\n",
       "      <td>4.000000</td>\n",
       "      <td>3.000000</td>\n",
       "      <td>0.0</td>\n",
       "      <td>7.000000</td>\n",
       "      <td>4.000000</td>\n",
       "    </tr>\n",
       "  </tbody>\n",
       "</table>\n",
       "</div>"
      ],
      "text/plain": [
       "              Age          cp    trestbps  cholestrol         fbs     restecg  \\\n",
       "count  200.000000  200.000000  144.000000  193.000000  193.000000  200.000000   \n",
       "mean    59.350000    3.505000  133.763889  178.746114    0.352332    0.735000   \n",
       "std      7.811697    0.795701   21.537733  114.035232    0.478939    0.683455   \n",
       "min     35.000000    1.000000    0.000000    0.000000    0.000000    0.000000   \n",
       "25%     55.000000    3.000000  120.000000    0.000000    0.000000    0.000000   \n",
       "50%     60.000000    4.000000  130.000000  216.000000    0.000000    1.000000   \n",
       "75%     64.000000    4.000000  147.000000  258.000000    1.000000    1.000000   \n",
       "max     77.000000    4.000000  190.000000  458.000000    1.000000    2.000000   \n",
       "\n",
       "          thalach       exang     oldpeak      slope   ca       thal  \\\n",
       "count  147.000000  147.000000  144.000000  98.000000  2.0  34.000000   \n",
       "mean   122.795918    0.646259    1.320833   2.132653  0.0   6.294118   \n",
       "std     21.990328    0.479765    1.106236   0.667937  0.0   1.291685   \n",
       "min     69.000000    0.000000   -0.500000   1.000000  0.0   3.000000   \n",
       "25%    109.000000    0.000000    0.000000   2.000000  0.0   6.000000   \n",
       "50%    120.000000    1.000000    1.500000   2.000000  0.0   7.000000   \n",
       "75%    140.000000    1.000000    2.000000   3.000000  0.0   7.000000   \n",
       "max    180.000000    1.000000    4.000000   3.000000  0.0   7.000000   \n",
       "\n",
       "           target  \n",
       "count  200.000000  \n",
       "mean     1.520000  \n",
       "std      1.219441  \n",
       "min      0.000000  \n",
       "25%      0.000000  \n",
       "50%      1.000000  \n",
       "75%      3.000000  \n",
       "max      4.000000  "
      ]
     },
     "execution_count": 9,
     "metadata": {},
     "output_type": "execute_result"
    }
   ],
   "source": [
    "df_lngb.describe()"
   ]
  },
  {
   "cell_type": "code",
   "execution_count": 10,
   "metadata": {},
   "outputs": [
    {
     "data": {
      "text/html": [
       "<div>\n",
       "<style scoped>\n",
       "    .dataframe tbody tr th:only-of-type {\n",
       "        vertical-align: middle;\n",
       "    }\n",
       "\n",
       "    .dataframe tbody tr th {\n",
       "        vertical-align: top;\n",
       "    }\n",
       "\n",
       "    .dataframe thead th {\n",
       "        text-align: right;\n",
       "    }\n",
       "</style>\n",
       "<table border=\"1\" class=\"dataframe\">\n",
       "  <thead>\n",
       "    <tr style=\"text-align: right;\">\n",
       "      <th></th>\n",
       "      <th>Age</th>\n",
       "      <th>cp</th>\n",
       "      <th>trestbps</th>\n",
       "      <th>fbs</th>\n",
       "      <th>restecg</th>\n",
       "      <th>thalach</th>\n",
       "      <th>exang</th>\n",
       "      <th>oldpeak</th>\n",
       "      <th>slope</th>\n",
       "      <th>ca</th>\n",
       "      <th>thal</th>\n",
       "      <th>target</th>\n",
       "    </tr>\n",
       "  </thead>\n",
       "  <tbody>\n",
       "    <tr>\n",
       "      <th>count</th>\n",
       "      <td>123.000000</td>\n",
       "      <td>123.000000</td>\n",
       "      <td>121.000000</td>\n",
       "      <td>48.000000</td>\n",
       "      <td>122.000000</td>\n",
       "      <td>122.000000</td>\n",
       "      <td>122.000000</td>\n",
       "      <td>117.000000</td>\n",
       "      <td>106.000000</td>\n",
       "      <td>5.000000</td>\n",
       "      <td>71.000000</td>\n",
       "      <td>123.000000</td>\n",
       "    </tr>\n",
       "    <tr>\n",
       "      <th>mean</th>\n",
       "      <td>55.317073</td>\n",
       "      <td>3.699187</td>\n",
       "      <td>130.206612</td>\n",
       "      <td>0.104167</td>\n",
       "      <td>0.360656</td>\n",
       "      <td>121.557377</td>\n",
       "      <td>0.442623</td>\n",
       "      <td>0.653846</td>\n",
       "      <td>1.801887</td>\n",
       "      <td>1.600000</td>\n",
       "      <td>5.788732</td>\n",
       "      <td>1.804878</td>\n",
       "    </tr>\n",
       "    <tr>\n",
       "      <th>std</th>\n",
       "      <td>9.032108</td>\n",
       "      <td>0.688726</td>\n",
       "      <td>22.559151</td>\n",
       "      <td>0.308709</td>\n",
       "      <td>0.590077</td>\n",
       "      <td>25.977438</td>\n",
       "      <td>0.498745</td>\n",
       "      <td>1.056061</td>\n",
       "      <td>0.623658</td>\n",
       "      <td>0.547723</td>\n",
       "      <td>1.731354</td>\n",
       "      <td>1.013503</td>\n",
       "    </tr>\n",
       "    <tr>\n",
       "      <th>min</th>\n",
       "      <td>32.000000</td>\n",
       "      <td>1.000000</td>\n",
       "      <td>80.000000</td>\n",
       "      <td>0.000000</td>\n",
       "      <td>0.000000</td>\n",
       "      <td>60.000000</td>\n",
       "      <td>0.000000</td>\n",
       "      <td>-2.600000</td>\n",
       "      <td>1.000000</td>\n",
       "      <td>1.000000</td>\n",
       "      <td>3.000000</td>\n",
       "      <td>0.000000</td>\n",
       "    </tr>\n",
       "    <tr>\n",
       "      <th>25%</th>\n",
       "      <td>51.000000</td>\n",
       "      <td>4.000000</td>\n",
       "      <td>115.000000</td>\n",
       "      <td>0.000000</td>\n",
       "      <td>0.000000</td>\n",
       "      <td>104.250000</td>\n",
       "      <td>0.000000</td>\n",
       "      <td>0.000000</td>\n",
       "      <td>1.000000</td>\n",
       "      <td>1.000000</td>\n",
       "      <td>3.000000</td>\n",
       "      <td>1.000000</td>\n",
       "    </tr>\n",
       "    <tr>\n",
       "      <th>50%</th>\n",
       "      <td>56.000000</td>\n",
       "      <td>4.000000</td>\n",
       "      <td>125.000000</td>\n",
       "      <td>0.000000</td>\n",
       "      <td>0.000000</td>\n",
       "      <td>121.000000</td>\n",
       "      <td>0.000000</td>\n",
       "      <td>0.300000</td>\n",
       "      <td>2.000000</td>\n",
       "      <td>2.000000</td>\n",
       "      <td>7.000000</td>\n",
       "      <td>2.000000</td>\n",
       "    </tr>\n",
       "    <tr>\n",
       "      <th>75%</th>\n",
       "      <td>61.500000</td>\n",
       "      <td>4.000000</td>\n",
       "      <td>145.000000</td>\n",
       "      <td>0.000000</td>\n",
       "      <td>1.000000</td>\n",
       "      <td>140.000000</td>\n",
       "      <td>1.000000</td>\n",
       "      <td>1.500000</td>\n",
       "      <td>2.000000</td>\n",
       "      <td>2.000000</td>\n",
       "      <td>7.000000</td>\n",
       "      <td>3.000000</td>\n",
       "    </tr>\n",
       "    <tr>\n",
       "      <th>max</th>\n",
       "      <td>74.000000</td>\n",
       "      <td>4.000000</td>\n",
       "      <td>200.000000</td>\n",
       "      <td>1.000000</td>\n",
       "      <td>2.000000</td>\n",
       "      <td>182.000000</td>\n",
       "      <td>1.000000</td>\n",
       "      <td>3.700000</td>\n",
       "      <td>3.000000</td>\n",
       "      <td>2.000000</td>\n",
       "      <td>7.000000</td>\n",
       "      <td>4.000000</td>\n",
       "    </tr>\n",
       "  </tbody>\n",
       "</table>\n",
       "</div>"
      ],
      "text/plain": [
       "              Age          cp    trestbps        fbs     restecg     thalach  \\\n",
       "count  123.000000  123.000000  121.000000  48.000000  122.000000  122.000000   \n",
       "mean    55.317073    3.699187  130.206612   0.104167    0.360656  121.557377   \n",
       "std      9.032108    0.688726   22.559151   0.308709    0.590077   25.977438   \n",
       "min     32.000000    1.000000   80.000000   0.000000    0.000000   60.000000   \n",
       "25%     51.000000    4.000000  115.000000   0.000000    0.000000  104.250000   \n",
       "50%     56.000000    4.000000  125.000000   0.000000    0.000000  121.000000   \n",
       "75%     61.500000    4.000000  145.000000   0.000000    1.000000  140.000000   \n",
       "max     74.000000    4.000000  200.000000   1.000000    2.000000  182.000000   \n",
       "\n",
       "            exang     oldpeak       slope        ca       thal      target  \n",
       "count  122.000000  117.000000  106.000000  5.000000  71.000000  123.000000  \n",
       "mean     0.442623    0.653846    1.801887  1.600000   5.788732    1.804878  \n",
       "std      0.498745    1.056061    0.623658  0.547723   1.731354    1.013503  \n",
       "min      0.000000   -2.600000    1.000000  1.000000   3.000000    0.000000  \n",
       "25%      0.000000    0.000000    1.000000  1.000000   3.000000    1.000000  \n",
       "50%      0.000000    0.300000    2.000000  2.000000   7.000000    2.000000  \n",
       "75%      1.000000    1.500000    2.000000  2.000000   7.000000    3.000000  \n",
       "max      1.000000    3.700000    3.000000  2.000000   7.000000    4.000000  "
      ]
     },
     "execution_count": 10,
     "metadata": {},
     "output_type": "execute_result"
    }
   ],
   "source": [
    "df_swtz.describe()"
   ]
  },
  {
   "cell_type": "code",
   "execution_count": 11,
   "metadata": {},
   "outputs": [
    {
     "data": {
      "text/html": [
       "<div>\n",
       "<style scoped>\n",
       "    .dataframe tbody tr th:only-of-type {\n",
       "        vertical-align: middle;\n",
       "    }\n",
       "\n",
       "    .dataframe tbody tr th {\n",
       "        vertical-align: top;\n",
       "    }\n",
       "\n",
       "    .dataframe thead th {\n",
       "        text-align: right;\n",
       "    }\n",
       "</style>\n",
       "<table border=\"1\" class=\"dataframe\">\n",
       "  <thead>\n",
       "    <tr style=\"text-align: right;\">\n",
       "      <th></th>\n",
       "      <th>Age</th>\n",
       "      <th>cp</th>\n",
       "      <th>trestbps</th>\n",
       "      <th>cholestrol</th>\n",
       "      <th>fbs</th>\n",
       "      <th>restecg</th>\n",
       "      <th>thalach</th>\n",
       "      <th>exang</th>\n",
       "      <th>oldpeak</th>\n",
       "      <th>slope</th>\n",
       "      <th>ca</th>\n",
       "      <th>thal</th>\n",
       "    </tr>\n",
       "  </thead>\n",
       "  <tbody>\n",
       "    <tr>\n",
       "      <th>count</th>\n",
       "      <td>294.000000</td>\n",
       "      <td>294.000000</td>\n",
       "      <td>293.000000</td>\n",
       "      <td>271.000000</td>\n",
       "      <td>286.000000</td>\n",
       "      <td>293.000000</td>\n",
       "      <td>293.000000</td>\n",
       "      <td>293.000000</td>\n",
       "      <td>294.000000</td>\n",
       "      <td>104.000000</td>\n",
       "      <td>3.0</td>\n",
       "      <td>28.000000</td>\n",
       "    </tr>\n",
       "    <tr>\n",
       "      <th>mean</th>\n",
       "      <td>47.826531</td>\n",
       "      <td>2.982993</td>\n",
       "      <td>132.583618</td>\n",
       "      <td>250.848708</td>\n",
       "      <td>0.069930</td>\n",
       "      <td>0.218430</td>\n",
       "      <td>139.129693</td>\n",
       "      <td>0.303754</td>\n",
       "      <td>0.586054</td>\n",
       "      <td>1.894231</td>\n",
       "      <td>0.0</td>\n",
       "      <td>5.642857</td>\n",
       "    </tr>\n",
       "    <tr>\n",
       "      <th>std</th>\n",
       "      <td>7.811812</td>\n",
       "      <td>0.965117</td>\n",
       "      <td>17.626568</td>\n",
       "      <td>67.657711</td>\n",
       "      <td>0.255476</td>\n",
       "      <td>0.460868</td>\n",
       "      <td>23.589749</td>\n",
       "      <td>0.460665</td>\n",
       "      <td>0.908648</td>\n",
       "      <td>0.338995</td>\n",
       "      <td>0.0</td>\n",
       "      <td>1.615074</td>\n",
       "    </tr>\n",
       "    <tr>\n",
       "      <th>min</th>\n",
       "      <td>28.000000</td>\n",
       "      <td>1.000000</td>\n",
       "      <td>92.000000</td>\n",
       "      <td>85.000000</td>\n",
       "      <td>0.000000</td>\n",
       "      <td>0.000000</td>\n",
       "      <td>82.000000</td>\n",
       "      <td>0.000000</td>\n",
       "      <td>0.000000</td>\n",
       "      <td>1.000000</td>\n",
       "      <td>0.0</td>\n",
       "      <td>3.000000</td>\n",
       "    </tr>\n",
       "    <tr>\n",
       "      <th>25%</th>\n",
       "      <td>42.000000</td>\n",
       "      <td>2.000000</td>\n",
       "      <td>120.000000</td>\n",
       "      <td>209.000000</td>\n",
       "      <td>0.000000</td>\n",
       "      <td>0.000000</td>\n",
       "      <td>122.000000</td>\n",
       "      <td>0.000000</td>\n",
       "      <td>0.000000</td>\n",
       "      <td>2.000000</td>\n",
       "      <td>0.0</td>\n",
       "      <td>5.250000</td>\n",
       "    </tr>\n",
       "    <tr>\n",
       "      <th>50%</th>\n",
       "      <td>49.000000</td>\n",
       "      <td>3.000000</td>\n",
       "      <td>130.000000</td>\n",
       "      <td>243.000000</td>\n",
       "      <td>0.000000</td>\n",
       "      <td>0.000000</td>\n",
       "      <td>140.000000</td>\n",
       "      <td>0.000000</td>\n",
       "      <td>0.000000</td>\n",
       "      <td>2.000000</td>\n",
       "      <td>0.0</td>\n",
       "      <td>6.000000</td>\n",
       "    </tr>\n",
       "    <tr>\n",
       "      <th>75%</th>\n",
       "      <td>54.000000</td>\n",
       "      <td>4.000000</td>\n",
       "      <td>140.000000</td>\n",
       "      <td>282.500000</td>\n",
       "      <td>0.000000</td>\n",
       "      <td>0.000000</td>\n",
       "      <td>155.000000</td>\n",
       "      <td>1.000000</td>\n",
       "      <td>1.000000</td>\n",
       "      <td>2.000000</td>\n",
       "      <td>0.0</td>\n",
       "      <td>7.000000</td>\n",
       "    </tr>\n",
       "    <tr>\n",
       "      <th>max</th>\n",
       "      <td>66.000000</td>\n",
       "      <td>4.000000</td>\n",
       "      <td>200.000000</td>\n",
       "      <td>603.000000</td>\n",
       "      <td>1.000000</td>\n",
       "      <td>2.000000</td>\n",
       "      <td>190.000000</td>\n",
       "      <td>1.000000</td>\n",
       "      <td>5.000000</td>\n",
       "      <td>3.000000</td>\n",
       "      <td>0.0</td>\n",
       "      <td>7.000000</td>\n",
       "    </tr>\n",
       "  </tbody>\n",
       "</table>\n",
       "</div>"
      ],
      "text/plain": [
       "              Age          cp    trestbps  cholestrol         fbs     restecg  \\\n",
       "count  294.000000  294.000000  293.000000  271.000000  286.000000  293.000000   \n",
       "mean    47.826531    2.982993  132.583618  250.848708    0.069930    0.218430   \n",
       "std      7.811812    0.965117   17.626568   67.657711    0.255476    0.460868   \n",
       "min     28.000000    1.000000   92.000000   85.000000    0.000000    0.000000   \n",
       "25%     42.000000    2.000000  120.000000  209.000000    0.000000    0.000000   \n",
       "50%     49.000000    3.000000  130.000000  243.000000    0.000000    0.000000   \n",
       "75%     54.000000    4.000000  140.000000  282.500000    0.000000    0.000000   \n",
       "max     66.000000    4.000000  200.000000  603.000000    1.000000    2.000000   \n",
       "\n",
       "          thalach       exang     oldpeak       slope   ca       thal  \n",
       "count  293.000000  293.000000  294.000000  104.000000  3.0  28.000000  \n",
       "mean   139.129693    0.303754    0.586054    1.894231  0.0   5.642857  \n",
       "std     23.589749    0.460665    0.908648    0.338995  0.0   1.615074  \n",
       "min     82.000000    0.000000    0.000000    1.000000  0.0   3.000000  \n",
       "25%    122.000000    0.000000    0.000000    2.000000  0.0   5.250000  \n",
       "50%    140.000000    0.000000    0.000000    2.000000  0.0   6.000000  \n",
       "75%    155.000000    1.000000    1.000000    2.000000  0.0   7.000000  \n",
       "max    190.000000    1.000000    5.000000    3.000000  0.0   7.000000  "
      ]
     },
     "execution_count": 11,
     "metadata": {},
     "output_type": "execute_result"
    }
   ],
   "source": [
    "df_hun.describe()"
   ]
  },
  {
   "cell_type": "code",
   "execution_count": 3,
   "metadata": {
    "scrolled": false
   },
   "outputs": [
    {
     "data": {
      "image/png": "[encoded data removed]",
      "text/plain": [
       "<Figure size 720x360 with 2 Axes>"
      ]
     },
     "metadata": {
      "needs_background": "light"
     },
     "output_type": "display_data"
    }
   ],
   "source": [
    "# create a function to select specific data column from data frame\n",
    "def select_columns(data_frame, column_names): \n",
    "    new_frame = data_frame.loc[:, column_names]\n",
    "    return new_frame\n",
    "\n",
    "selected_columns = ['Age']\n",
    "\n",
    "clv_ages = select_columns(df_clv, selected_columns)\n",
    "sorted_clv_ages = clv_ages.sort_values(by='Age', axis=0, ascending=True, inplace=False, kind='quicksort', na_position='last')\n",
    "\n",
    "lngb_ages = select_columns(df_lngb, selected_columns)\n",
    "sorted_lngb_ages = lngb_ages.sort_values(by='Age', axis=0, ascending=True, inplace=False, kind='quicksort', na_position='last')\n",
    " \n",
    "norm1 = np.random.normal(0, 1, len(sorted_clv_ages)) # Create sets of random normal data to chart against actual data\n",
    "norm1.sort() \n",
    "norm2 = np.random.normal(0, 1, len(sorted_lngb_ages))\n",
    "norm2.sort()\n",
    "\n",
    "plt.figure(figsize=(10, 5)) # Create QQplot to investigate the normality of age data \n",
    "           \n",
    "plt.subplot(1, 2, 1)\n",
    "plt.plot(norm1, sorted_clv_ages , \"o\") \n",
    "plt.title('Cleveland Age QQPlot')           \n",
    "plt.subplot(1, 2, 2)\n",
    "plt.plot(norm2, sorted_lngb_ages , \"o\")  \n",
    "plt.title('Long Beach Va Age QQPlot') \n",
    "\n",
    "plt.tight_layout()\n",
    "plt.show()\n"
   ]
  },
  {
   "cell_type": "code",
   "execution_count": 3,
   "metadata": {
    "scrolled": true
   },
   "outputs": [
    {
     "data": {
      "image/png": "[encoded data removed]",
      "text/plain": [
       "<Figure size 720x360 with 2 Axes>"
      ]
     },
     "metadata": {
      "needs_background": "light"
     },
     "output_type": "display_data"
    }
   ],
   "source": [
    "def select_columns(data_frame, column_names): # create a function to select specific data column from data frame\n",
    "    new_frame = data_frame.loc[:, column_names]\n",
    "    return new_frame\n",
    "\n",
    "selected_columns = ['Age']\n",
    "\n",
    "swtz_ages = select_columns(df_swtz, selected_columns)\n",
    "sorted_swtz_ages = swtz_ages.sort_values(by='Age', axis=0, ascending=True, inplace=False, kind='quicksort', na_position='last')\n",
    "\n",
    "hun_ages = select_columns(df_hun, selected_columns)\n",
    "sorted_hun_ages = hun_ages.sort_values(by='Age', axis=0, ascending=True, inplace=False, kind='quicksort', na_position='last')\n",
    "\n",
    "norm3 = np.random.normal(0, 1, len(sorted_swtz_ages)) # Create sets of random normal data to chart against actual data \n",
    "norm3.sort()\n",
    "norm4 = np.random.normal(0, 1, len(sorted_hun_ages))\n",
    "norm4.sort()\n",
    "\n",
    "plt.figure(figsize=(10, 5)) # Create QQplot to investigate the normality of age data \n",
    "           \n",
    "plt.subplot(1, 2, 1)\n",
    "plt.plot(norm3, sorted_swtz_ages , \"o\")\n",
    "plt.title('Switzerland Age QQPlot') \n",
    "           \n",
    "plt.subplot(1, 2, 2)\n",
    "plt.plot(norm4, sorted_hun_ages , \"o\") \n",
    "plt.title('Hungary Age QQPlot') \n",
    "\n",
    "plt.tight_layout()\n",
    "plt.show()\n",
    "\n"
   ]
  },
  {
   "cell_type": "markdown",
   "metadata": {},
   "source": [
    "As we see the Age data plotted against a rando normal variable, each location's QQplot follows a relatively linear trend. In this way, I am encouraged to go ahead and continue analysis. However there are noticeable outliers present in the tails of the data. We will take care of these values later.\n",
    "\n",
    "I also create histograms based upon the age data to get a sense of the shape and spread of each dataset. The collections do not seem to reflect harsh skewness and there seems to be a fair amount of overlap in each locatino's age data. Though we cannot infer much else until we have done sufficient calculations for interpreting the averages. "
   ]
  },
  {
   "cell_type": "code",
   "execution_count": 22,
   "metadata": {},
   "outputs": [
    {
     "name": "stderr",
     "output_type": "stream",
     "text": [
      "<ipython-input-22-f58e4481abc5>:8: MatplotlibDeprecationWarning: Adding an axes using the same arguments as a previous axes currently reuses the earlier instance.  In a future version, a new instance will always be created and returned.  Meanwhile, this warning can be suppressed, and the future behavior ensured, by passing a unique label to each axes instance.\n",
      "  plt.subplot(1, 2, 1)\n"
     ]
    },
    {
     "data": {
      "image/png": "[encoded data removed]",
      "text/plain": [
       "<Figure size 648x360 with 1 Axes>"
      ]
     },
     "metadata": {
      "needs_background": "light"
     },
     "output_type": "display_data"
    }
   ],
   "source": [
    "from matplotlib.patches import Rectangle \n",
    "\n",
    "plt.figure(figsize=(9,5)) # Create Histogram to investigate the spread and shape of Age data \n",
    "\n",
    "plt.subplot(1, 2, 1)\n",
    "plt.hist(df_clv[\"Age\"], color='purple', bins=np.arange(35, 80), alpha=.5) \n",
    "\n",
    "plt.subplot(1, 2, 1)\n",
    "plt.hist(df_lngb[\"Age\"], color='green', bins=np.arange(35, 80), alpha=.5)\n",
    "\n",
    "plt.xlabel('Patient Age')\n",
    "plt.title('Cleveland vs Long Beach VA Age Distribution(Normed)')\n",
    "plt.legend(['Cleveland', 'Long Beach'])\n",
    "plt.tight_layout()\n",
    "plt.show()\n"
   ]
  },
  {
   "cell_type": "code",
   "execution_count": 5,
   "metadata": {},
   "outputs": [
    {
     "name": "stderr",
     "output_type": "stream",
     "text": [
      "<ipython-input-5-491a0cec0b9a>:10: MatplotlibDeprecationWarning: Adding an axes using the same arguments as a previous axes currently reuses the earlier instance.  In a future version, a new instance will always be created and returned.  Meanwhile, this warning can be suppressed, and the future behavior ensured, by passing a unique label to each axes instance.\n",
      "  plt.subplot(1, 2, 1)\n"
     ]
    },
    {
     "data": {
      "image/png": "[encoded data removed]",
      "text/plain": [
       "<Figure size 648x360 with 1 Axes>"
      ]
     },
     "metadata": {
      "needs_background": "light"
     },
     "output_type": "display_data"
    }
   ],
   "source": [
    "import sys\n",
    "df_swtz[\"swtz_age\"] = pd.read_csv('switz.names.csv', usecols=[0])\n",
    "df_hun[\"hun_age\"] = pd.read_csv('hungarian.names.csv', usecols=[0])\n",
    "\n",
    "plt.figure(figsize=(9,5)) # Create Histogram to investigate the spread and shape of Age data\n",
    "\n",
    "plt.subplot(1, 2, 1)\n",
    "plt.hist(df_swtz[\"swtz_age\"], density=True, color='red', bins=np.arange(35, 80), alpha=.5) \n",
    "\n",
    "plt.subplot(1, 2, 1)\n",
    "plt.hist(df_hun[\"hun_age\"], density=True, color='blue', bins=np.arange(35, 80), alpha=.5)\n",
    "\n",
    "plt.xlabel('Patient Age')\n",
    "plt.title('Switzerland vs Hunagry Age Distribution(Normed)')\n",
    "plt.legend(['Switzerland', 'Hungary'])\n",
    "plt.tight_layout()\n",
    "plt.show()"
   ]
  },
  {
   "cell_type": "markdown",
   "metadata": {},
   "source": [
    "## Question 1"
   ]
  },
  {
   "cell_type": "markdown",
   "metadata": {},
   "source": [
    "If each location's risk avergae is to be compared, we must take cre of any outliers that might hold too much influence over the calculations. Using the age data as in the QQplots above, outliers + or - 2 standard deviations of the theoretical mean are taken out of the parent dataset. In application through boxplot analysis, the VA Medical Center,California data and University Hospital, Switzerland were found to have outliers present and thus only these datasets required outlier extraction.\n",
    "\n",
    "Using the Age dat from each location, respective box and whisker plots show that no more outliers with respect to age  remain in the data frame."
   ]
  },
  {
   "cell_type": "code",
   "execution_count": 6,
   "metadata": {},
   "outputs": [
    {
     "data": {
      "image/png": "[encoded data removed]",
      "text/plain": [
       "<Figure size 432x432 with 2 Axes>"
      ]
     },
     "metadata": {
      "needs_background": "light"
     },
     "output_type": "display_data"
    }
   ],
   "source": [
    "df_clv[\"clv_age\"] = pd.read_csv('cleveland.names.csv', usecols=[0]) # Different method to extract column data\n",
    "\n",
    "df_lngb[\"lngb_age\"] = pd.read_csv('va.names.csv', usecols=[0])\n",
    "df_lngb_remove_outliers = df_lngb[((df_lngb.Age - df_lngb.Age.mean()) / df_lngb.Age.std()).abs() < 2] \n",
    "                                                    # Remove outliers from long beach data(+-2 stds of the mean)\n",
    "df_lngb_clean = df_lngb_remove_outliers[\"Age\"]\n",
    "\n",
    "plt.figure(figsize=(6,6)) # Create Box and Whisker plots to check for outliers in the data \n",
    "\n",
    "plt.subplot(1, 2, 1)\n",
    "plt.boxplot(df_clv[\"clv_age\"])\n",
    "plt.ylabel('Age')\n",
    "plt.title('Cleveland')\n",
    "\n",
    "plt.subplot(1, 2, 2)\n",
    "plt.boxplot(df_lngb_clean)\n",
    "plt.ylabel('Age')\n",
    "plt.title('Long Beach VA')\n",
    "\n",
    "plt.tight_layout()\n",
    "plt.show()\n"
   ]
  },
  {
   "cell_type": "code",
   "execution_count": 7,
   "metadata": {},
   "outputs": [
    {
     "data": {
      "image/png": "[encoded data removed]",
      "text/plain": [
       "<Figure size 432x432 with 2 Axes>"
      ]
     },
     "metadata": {
      "needs_background": "light"
     },
     "output_type": "display_data"
    }
   ],
   "source": [
    "df_swtz[\"switz_age\"] = pd.read_csv('switz.names.csv', usecols=[0])\n",
    "df_swtz_remove_outliers = df_swtz[((df_swtz.Age - df_swtz.Age.mean()) / df_swtz.Age.std()).abs() < 2]\n",
    "                                                    # Remove outliers from long beach data(+-2 stds of the mean)\n",
    "df_swtz_clean = df_swtz_remove_outliers[\"Age\"]\n",
    "\n",
    "df_hun[\"hun_age\"] = pd.read_csv('hungarian.names.csv', usecols=[0])\n",
    "                                                    \n",
    "plt.figure(figsize=(6,6)) # Create Box and Whisker plots to check for outliers in the data \n",
    "\n",
    "plt.subplot(1, 2, 1)\n",
    "plt.boxplot(df_swtz_clean)\n",
    "plt.ylabel('Age')\n",
    "plt.title('Switzerland')\n",
    "\n",
    "plt.subplot(1, 2, 2)\n",
    "plt.boxplot(df_hun[\"hun_age\"])\n",
    "plt.ylabel('Age')\n",
    "plt.title('Hungary')\n",
    "\n",
    "plt.tight_layout()\n",
    "plt.show()"
   ]
  },
  {
   "cell_type": "markdown",
   "metadata": {},
   "source": [
    "I check also the risk value data of each location for outliers as well. With none found present, I am more encouraged that calculations will result in meaningful means and standard deviations."
   ]
  },
  {
   "cell_type": "code",
   "execution_count": 8,
   "metadata": {
    "scrolled": true
   },
   "outputs": [
    {
     "data": {
      "image/png": "[encoded data removed]",
      "text/plain": [
       "<Figure size 432x432 with 2 Axes>"
      ]
     },
     "metadata": {
      "needs_background": "light"
     },
     "output_type": "display_data"
    }
   ],
   "source": [
    "df_clv[\"clv_hdv\"] = pd.read_csv('cleveland.names.csv', usecols=[13])\n",
    "\n",
    "df_lngb_clean = df_lngb_remove_outliers[\"target\"]\n",
    "\n",
    "plt.figure(figsize=(6,6)) # Create Box and Whisker plot of Heart Disease Risk to check for the presence of outliers\n",
    "\n",
    "plt.subplot(1, 2, 1)\n",
    "plt.boxplot(df_clv[\"clv_hdv\"])\n",
    "plt.ylabel('Heart Disease Risk Value')\n",
    "plt.title('Cleveland')\n",
    "\n",
    "plt.subplot(1, 2, 2)\n",
    "plt.boxplot(df_lngb_clean)\n",
    "plt.ylabel('Heart Disease Risk Value')\n",
    "plt.title('Long Beach VA')\n",
    "\n",
    "plt.tight_layout()\n",
    "plt.show()\n"
   ]
  },
  {
   "cell_type": "code",
   "execution_count": 9,
   "metadata": {
    "scrolled": true
   },
   "outputs": [
    {
     "data": {
      "image/png": "[encoded data removed]",
      "text/plain": [
       "<Figure size 432x432 with 2 Axes>"
      ]
     },
     "metadata": {
      "needs_background": "light"
     },
     "output_type": "display_data"
    }
   ],
   "source": [
    "df_swtz_clean = df_swtz_remove_outliers[\"target\"] \n",
    "\n",
    "df_hun[\"hun_hdv\"] = pd.read_csv('hungarian.names.csv', usecols=[13])\n",
    "\n",
    "plt.figure(figsize=(6,6)) # Create Box and Whisker plot of Heart Disease Risk to check for the presence of outliers\n",
    "\n",
    "plt.subplot(1, 2, 1)\n",
    "plt.boxplot(df_swtz_clean)\n",
    "plt.ylabel('Heart Disease Risk Value')\n",
    "plt.title('Switzerland')\n",
    "\n",
    "plt.subplot(1, 2, 2)\n",
    "plt.boxplot(df_hun[\"hun_hdv\"])\n",
    "plt.ylabel('Heart Disease Risk Value')\n",
    "plt.title('Hungary')\n",
    "\n",
    "plt.tight_layout()\n",
    "plt.show()\n"
   ]
  },
  {
   "cell_type": "code",
   "execution_count": 10,
   "metadata": {
    "scrolled": true
   },
   "outputs": [
    {
     "data": {
      "image/png": "[encoded data removed]",
      "text/plain": [
       "<Figure size 720x360 with 2 Axes>"
      ]
     },
     "metadata": {
      "needs_background": "light"
     },
     "output_type": "display_data"
    }
   ],
   "source": [
    "sorted_clv_hd_values = df_clv[\"clv_hdv\"].sort_values(axis=0, ascending=True, inplace=False, kind='quicksort', na_position='last')\n",
    "\n",
    "sorted_lngb_hd_values = df_lngb_clean.sort_values(axis=0, ascending=True, inplace=False, kind='quicksort', na_position='last')\n",
    "                                                            # Sort Heart Disease Values numerically with quicksort \n",
    "norm1 = np.random.normal(0, 1, len(sorted_clv_hd_values)) # Create random normal set to chart against HD data\n",
    "norm1.sort()\n",
    "norm2 = np.random.normal(0, 1, len(df_lngb_clean))\n",
    "norm2.sort()\n",
    "\n",
    "plt.figure(figsize=(10, 5)) # Create QQplot to investigate the normality of Heart Disease data \n",
    "\n",
    "plt.subplot(1, 2, 1)\n",
    "plt.plot(norm1, sorted_clv_hd_values, \"o\")\n",
    "plt.ylabel('Heart Disease Risk Value')\n",
    "plt.title('Cleveland')\n",
    "\n",
    "plt.subplot(1, 2, 2)\n",
    "plt.plot(norm2, sorted_lngb_hd_values, \"o\")\n",
    "plt.ylabel('Heart Disease Risk Value')\n",
    "plt.title('California')\n",
    "\n",
    "plt.tight_layout()\n",
    "plt.show()"
   ]
  },
  {
   "cell_type": "code",
   "execution_count": 11,
   "metadata": {},
   "outputs": [
    {
     "data": {
      "image/png": "[encoded data removed]",
      "text/plain": [
       "<Figure size 720x360 with 2 Axes>"
      ]
     },
     "metadata": {
      "needs_background": "light"
     },
     "output_type": "display_data"
    }
   ],
   "source": [
    "sorted_swtz_hd_values = df_swtz_clean.sort_values(axis=0, ascending=True, inplace=False, kind='quicksort', na_position='last')\n",
    "\n",
    "sorted_hun_hd_values = df_hun[\"target\"].sort_values(axis=0, ascending=True, inplace=False, kind='quicksort', na_position='last')\n",
    "                                                            # Sort Heart Disease Values numerically with quicksort\n",
    "norm3 = np.random.normal(0, 1, len(df_swtz_clean)) # Create random normal set to chart against HD data \n",
    "norm3.sort()\n",
    "norm4 = np.random.normal(0, 1, len(sorted_hun_hd_values))\n",
    "norm4.sort()\n",
    "\n",
    "plt.figure(figsize=(10, 5)) # Create QQplot to investigate the normality of Heart Disease data \n",
    "\n",
    "plt.subplot(1, 2, 1)\n",
    "plt.plot(norm3, sorted_swtz_hd_values, \"o\",)\n",
    "plt.ylabel('Heart Disease Risk Value')\n",
    "plt.title('Switzerland')\n",
    "\n",
    "plt.subplot(1, 2, 2)\n",
    "plt.plot(norm4, sorted_hun_hd_values, \"o\",)\n",
    "plt.ylabel('Heart Disease Risk Value')\n",
    "plt.title('Hungary')\n",
    "\n",
    "plt.tight_layout()\n",
    "plt.show()"
   ]
  },
  {
   "cell_type": "markdown",
   "metadata": {},
   "source": [
    "Creating a simple function to return the means and standard deviations of a risk value data frame with respect to each location, we already see the Hungarian Institute with an average risk value and standard deviation set itself far apart from the other three locations. While the Cleveland dataset's average is also well below the remaining contenders, its standard deviation follows inline with California and Switzedland. \n",
    "Thus far, we have an idea from our analysis that these calculations speak to the true results of each dataset, however I believe a T-test is necessary to investigate further. "
   ]
  },
  {
   "cell_type": "code",
   "execution_count": 12,
   "metadata": {
    "scrolled": true
   },
   "outputs": [
    {
     "name": "stdout",
     "output_type": "stream",
     "text": [
      "Cleveland mean and standard deviation:\n",
      "mean = 0.9372937293729373\n",
      "std = 1.2285356879701044\n",
      "\n",
      "Long Beach VA mean and standard deviation:\n",
      "mean = 1.5591397849462365\n",
      "std = 1.2032601263674862\n",
      "\n",
      "Switzerland mean and standard deviation:\n",
      "mean = 1.8220338983050848\n",
      "std = 1.018053748452664\n",
      "\n",
      "Hungary mean and standard deviation:\n",
      "mean = 0.36054421768707484\n",
      "std = 0.48097708049660515\n",
      "\n"
     ]
    }
   ],
   "source": [
    "def mean_and_std(location,df): # Create function to return mean and standard deviation of given data\n",
    "    return (location + \" mean and standard deviation:\\nmean = {}\\nstd = {}\\n\".format(np.mean(df),df.std()))\n",
    "\n",
    "print(mean_and_std(\"Cleveland\",df_clv[\"target\"]))\n",
    "print(mean_and_std(\"Long Beach VA\",df_lngb_clean))\n",
    "print(mean_and_std(\"Switzerland\",df_swtz_clean))\n",
    "print(mean_and_std(\"Hungary\",df_hun[\"target\"]))"
   ]
  },
  {
   "cell_type": "markdown",
   "metadata": {},
   "source": [
    "Creating another function using the t-test module from the SciPy library, each locations risk value data frame are compared to every other location. We remember a t-statistic refects how many standard errors worth of space separates the compared means. And that a small p-value reflects a specific sample to be more likely a meaningful description of its respective population, and not a characteristic of variablilty in the sample collection.\n",
    "\n",
    "As such, the T-test results return overall values that trend in small p-values and large t-statistics. From these calculations I infer that the means and standard devaitons that were calculated previously speak to the true true measures of each location's dataset. "
   ]
  },
  {
   "cell_type": "code",
   "execution_count": 13,
   "metadata": {},
   "outputs": [
    {
     "name": "stdout",
     "output_type": "stream",
     "text": [
      "Cleveland vs Long beach VA:\n",
      "Ttest_indResult(statistic=-5.5038714016807715, pvalue=6.670879099259733e-08)\n",
      "\n",
      "Cleveland vs Switzerland:\n",
      "Ttest_indResult(statistic=-7.541108281440142, pvalue=8.145666912713882e-13)\n",
      "\n",
      "Cleveland vs Hungary:\n",
      "Ttest_indResult(statistic=7.594033970762158, pvalue=2.265481917609552e-13)\n",
      "\n",
      "Long beach VA vs Switzerland:\n",
      "Ttest_indResult(statistic=-2.042461010769659, pvalue=0.04204871155403733)\n",
      "\n",
      "Long beach VA vs Hungary:\n",
      "Ttest_indResult(statistic=12.946691381955537, pvalue=5.867544146933868e-29)\n",
      "\n",
      "Switzerland vs Hungary:\n",
      "Ttest_indResult(statistic=14.939470844555224, pvalue=1.1675453409399648e-30)\n",
      "\n"
     ]
    }
   ],
   "source": [
    "from scipy.stats import ttest_ind # import scipy library for t-test \n",
    "\n",
    "def t_test(df_1, df_2): # Create function to run two data sets and return test statistic and p-value \n",
    "        return ttest_ind(df_1, df_2, equal_var=False) \n",
    "\n",
    "print(\"Cleveland vs Long beach VA:\\n{}\\n\".format(t_test(df_clv[\"target\"], df_lngb_clean)))\n",
    "print(\"Cleveland vs Switzerland:\\n{}\\n\".format(t_test(df_clv[\"target\"], df_swtz_clean)))\n",
    "print(\"Cleveland vs Hungary:\\n{}\\n\".format(t_test(df_clv[\"target\"], df_hun[\"target\"])))\n",
    "print(\"Long beach VA vs Switzerland:\\n{}\\n\".format(t_test(df_lngb_clean, df_swtz_clean)))\n",
    "print(\"Long beach VA vs Hungary:\\n{}\\n\".format(t_test(df_lngb_clean, df_hun[\"target\"])))\n",
    "print(\"Switzerland vs Hungary:\\n{}\\n\".format(t_test(df_swtz_clean, df_hun[\"target\"])))"
   ]
  },
  {
   "cell_type": "markdown",
   "metadata": {},
   "source": [
    "With outliers removed and in consideration of the T-test relults, I conclude that all datasets reflect meaningful averages and standard deviations, and further the calculations for the Hungarian Institute of Cardiology reflect divergent result from the remaining location's. "
   ]
  },
  {
   "cell_type": "markdown",
   "metadata": {},
   "source": [
    "## Question 2"
   ]
  },
  {
   "cell_type": "markdown",
   "metadata": {},
   "source": [
    "To image the relationship between a location's age data and heart disease risk data, I create a simple scatter plot  from age and risk data frames of each location."
   ]
  },
  {
   "cell_type": "code",
   "execution_count": 14,
   "metadata": {
    "scrolled": true
   },
   "outputs": [
    {
     "data": {
      "image/png": "[encoded data removed]",
      "text/plain": [
       "<Figure size 576x288 with 2 Axes>"
      ]
     },
     "metadata": {
      "needs_background": "light"
     },
     "output_type": "display_data"
    }
   ],
   "source": [
    "plt.figure(figsize=(8,4)) # Create Scatter plot to investigate relationship between Age and Heart Disease data\n",
    "\n",
    "plt.subplot(1, 2, 1)\n",
    "plt.scatter(x=df_clv['Age'], y=df_clv['target'])\n",
    "plt.title('Cleveland: Age vs Heart Disease Risk')\n",
    "plt.xlabel('Age')\n",
    "plt.ylabel('Risk Value')\n",
    "\n",
    "plt.subplot(1, 2, 2)\n",
    "plt.scatter(x=df_lngb['Age'], y=df_lngb['target'])\n",
    "plt.title('Long Beach VA: Age vs Heart Disease Risk')\n",
    "plt.xlabel('Age')\n",
    "plt.ylabel('Risk Value')\n",
    "\n",
    "plt.tight_layout()\n",
    "plt.show()\n"
   ]
  },
  {
   "cell_type": "code",
   "execution_count": 15,
   "metadata": {
    "scrolled": true
   },
   "outputs": [
    {
     "data": {
      "image/png": "[encoded data removed]",
      "text/plain": [
       "<Figure size 576x288 with 2 Axes>"
      ]
     },
     "metadata": {
      "needs_background": "light"
     },
     "output_type": "display_data"
    }
   ],
   "source": [
    "plt.figure(figsize=(8,4)) # Create Scatter plot to investigate relationship between Age and Heart Disease data\n",
    "\n",
    "plt.subplot(1, 2, 1)\n",
    "plt.scatter(x=df_swtz['Age'], y=df_swtz['target'])\n",
    "plt.title('Switzerland: Age vs Heart Disease Risk')\n",
    "plt.xlabel('Age')\n",
    "plt.ylabel('Risk Value')\n",
    "\n",
    "plt.subplot(1, 2, 2)\n",
    "plt.scatter(x=df_hun['Age'], y=df_hun['target'])\n",
    "plt.title('Hungary: Age vs Heart Disease Risk')\n",
    "plt.xlabel('Age')\n",
    "plt.ylabel('Risk Value')\n",
    "\n",
    "plt.tight_layout()\n",
    "plt.show()"
   ]
  },
  {
   "cell_type": "markdown",
   "metadata": {},
   "source": [
    "These scatter plots show us the predicted heart disease risk vs age. If age of was a standout indicator for predicting heart disease we would notice a definite trend in the data points on the plot. We see a slight tendency in the data of the Long Beach VA dataset, as there is a higher concentration of data points in older ages. However, in the majority of instances, the spread of risk values seem to be fairly evenly distributed across the years. "
   ]
  },
  {
   "cell_type": "markdown",
   "metadata": {},
   "source": [
    "## Question 3"
   ]
  },
  {
   "cell_type": "markdown",
   "metadata": {},
   "source": [
    "To calculate the probability a patient with cholesterol levels greater than 200 mg/dL would be assigned a risk value greater than the location average, I construct a simple result of data frame counts with respect to cholesterol level and the amount of those counts that come from patients with greater than average risk levels. \n",
    "\n",
    "The Switzerland dataset could not be used in this calculation since it did ot include patient cholesterol level data."
   ]
  },
  {
   "cell_type": "code",
   "execution_count": 16,
   "metadata": {
    "scrolled": true
   },
   "outputs": [
    {
     "name": "stdout",
     "output_type": "stream",
     "text": [
      "Cleveland average heart disease risk = 0.9372937293729373\n",
      "\n",
      "Total number of patients with levels over 200 mg/dL:\n",
      "cholestrol    253\n",
      "target        253\n",
      "dtype: int64\n",
      "\n",
      "Total number of patients with chol. levels over 200 and given a Heart Disease value over the group average:\n",
      "cholestrol    70\n",
      "target        70\n",
      "dtype: int64\n",
      "\n",
      "Probability of a greater than average risk Heart Diease:\n",
      "cholestrol    0.27668\n",
      "target        0.27668\n",
      "dtype: float64\n"
     ]
    }
   ],
   "source": [
    "clv_chol_v_hrt_dis = df_clv[['cholestrol','target']] # Create parsed data frame with only Cholesterol and HD data\n",
    "\n",
    "clv_hrt_dis = df_clv['target']\n",
    "print(\"Cleveland average heart disease risk = {}\\n\".format(np.mean(clv_hrt_dis))) # Calculate mean HD risk\n",
    "\n",
    "clv_hdv_grt_avrg = clv_chol_v_hrt_dis[clv_chol_v_hrt_dis.target > 1]\n",
    "\n",
    "clv_chol_grt200 = clv_chol_v_hrt_dis[clv_chol_v_hrt_dis.cholestrol > 200] # Count patients with >200 chol. levels \n",
    "\n",
    "print(\"Total number of patients with levels over 200 mg/dL:\\n{}\\n\".format(clv_chol_grt200.count()))\n",
    "\n",
    "print(\"Total number of patients with chol. levels over 200 and given a Heart Disease value over the group average:\\n{}\".format(clv_chol_grt200[clv_chol_grt200.target > 1.0].count()))\n",
    "                            # Count the amount of >200 patients that also have greater than average HD risk \n",
    "\n",
    "prob_risk = clv_chol_grt200[clv_chol_grt200.target > 1.0].count() / clv_chol_grt200.count()\n",
    "                            # Calculate the percentage of >200 chol. with >avg Heart Disease risk\n",
    "\n",
    "print(\"\\nProbability of a greater than average risk Heart Diease:\\n{}\".format(prob_risk))\n",
    "            "
   ]
  },
  {
   "cell_type": "code",
   "execution_count": 19,
   "metadata": {},
   "outputs": [
    {
     "name": "stdout",
     "output_type": "stream",
     "text": [
      "Long Beach VA average heart disease risk = 1.5591397849462365\n",
      "\n",
      "Total number of patients with levels over 200 mg/dL:\n",
      "cholestrol    117\n",
      "target        117\n",
      "dtype: int64\n",
      "\n",
      "Total number of patients with chol. levels over 200 and given a Heart Disease value over the group average:\n",
      "cholestrol    35\n",
      "target        35\n",
      "dtype: int64\n",
      "\n",
      "Probability of a greater than average risk Heart Diease:\n",
      "cholestrol    0.299145\n",
      "target        0.299145\n",
      "dtype: float64\n"
     ]
    }
   ],
   "source": [
    "\n",
    "\n",
    "lngb_chol_v_hrt_dis = df_lngb[['cholestrol','target']] # Create parsed data frame with only Cholesterol and HD data\n",
    "\n",
    "lngb_hrt_dis = df_lngb_clean\n",
    "print(\"Long Beach VA average heart disease risk = {}\\n\".format(np.mean(lngb_hrt_dis))) # Calculate mean HD risk\n",
    "\n",
    "lngb_chol_grt200 = lngb_chol_v_hrt_dis[lngb_chol_v_hrt_dis.cholestrol > 200] # Count patients with >200 chol. levels\n",
    "\n",
    "print(\"Total number of patients with levels over 200 mg/dL:\\n{}\\n\".format(lngb_chol_grt200.count()))\n",
    "\n",
    "print(\"Total number of patients with chol. levels over 200 and given a Heart Disease value over the group average:\\n{}\".format(lngb_chol_grt200[lngb_chol_grt200.target > 2.0].count()))\n",
    "                            # Count the amount of >200 patients that also have greater than average HD risk \n",
    "\n",
    "prob_risk = lngb_chol_grt200[lngb_chol_grt200.target > 2.0].count() / lngb_chol_grt200.count()\n",
    "                            # Calculate the percentage of >200 chol. with >avg Heart Disease risk\n",
    "print(\"\\nProbability of a greater than average risk Heart Diease:\\n{}\".format(prob_risk))\n",
    "            \n"
   ]
  },
  {
   "cell_type": "code",
   "execution_count": 20,
   "metadata": {},
   "outputs": [
    {
     "name": "stdout",
     "output_type": "stream",
     "text": [
      "Hungarian average heart disease risk = 0.36054421768707484\n",
      "\n",
      "Total number of patients with levels over 200 mg/dL:\n",
      "cholestrol    216\n",
      "target        216\n",
      "dtype: int64\n",
      "\n",
      "Total number of patients with chol. levels over 200 and given a Heart Disease value over the group average:\n",
      "cholestrol    88\n",
      "target        88\n",
      "dtype: int64\n",
      "\n",
      "Probability of a greater than average risk Heart Diease:\n",
      "cholestrol    0.407407\n",
      "target        0.407407\n",
      "dtype: float64\n"
     ]
    }
   ],
   "source": [
    "\n",
    "\n",
    "hun_chol_v_hrt_dis = df_hun[['cholestrol','target']] # Create parsed data frame with only Cholesterol and HD data\n",
    "\n",
    "hun_hrt_dis = df_hun['target']\n",
    "print(\"Hungarian average heart disease risk = {}\\n\".format(np.mean(hun_hrt_dis))) # Calculate mean HD risk\n",
    "\n",
    "hun_chol_grt200 = hun_chol_v_hrt_dis[hun_chol_v_hrt_dis.cholestrol > 200] # Count patients with >200 chol. levels\n",
    "\n",
    "print(\"Total number of patients with levels over 200 mg/dL:\\n{}\\n\".format(hun_chol_grt200.count()))\n",
    "\n",
    "print(\"Total number of patients with chol. levels over 200 and given a Heart Disease value over the group average:\\n{}\".format(hun_chol_grt200[hun_chol_grt200.target > 0].count()))\n",
    "                            # Count the amount of >200 patients that also have greater than average HD risk \n",
    "\n",
    "prob_risk = hun_chol_grt200[hun_chol_grt200.target > 0.0].count() / hun_chol_grt200.count()\n",
    "                            # Calculate the percentage of >200 chol. with >avg Heart Disease risk\n",
    "    \n",
    "print(\"\\nProbability of a greater than average risk Heart Diease:\\n{}\".format(prob_risk))\n",
    "\n"
   ]
  },
  {
   "cell_type": "markdown",
   "metadata": {},
   "source": [
    "From these results we see that the patients from the California VA at .277 and Cleveland Clinic .299 were similar in probability that a patient with a cholesterol level of 200 mg/dL would have a higher than average assigned risk value. And further we see patients from the Hungarian Instititute with a much higher probability at .407. "
   ]
  },
  {
   "cell_type": "markdown",
   "metadata": {},
   "source": [
    "## Conclusions"
   ]
  },
  {
   "cell_type": "markdown",
   "metadata": {},
   "source": [
    "Throughout investigation of each location's data, small differences in results have combined to form a broader image of the true nature of each dataset. Suprisingly regardless of age, we see similar distributions of Heart Disease risk shared amongst the patient collection. Markedly, the Hungarian Institute's results diverge from the remaining locations. An explanation may be that when the heart disease risk values were assigned, they may of been given on a binary scale, as such a 0 value for no suspected risk and a 1 value for a suspected risk, regardless of severity of such a risk. This would also explain the higher probablity of a risk value over the mean risk if a patient has a cholesterol level over 200 in Hungarian patients. \n",
    "\n",
    "Further or more rigous research might include an explanation of the patient selection process. As the locations and institutes vary so greatly, surley this information would benefit from more context. I would also like to see a study conducted present day, a contemporary investigation may include more scientifically advanced indictors and more meaningful attributes.  "
   ]
  },
  {
   "cell_type": "code",
   "execution_count": null,
   "metadata": {},
   "outputs": [],
   "source": []
  }
 ],
 "metadata": {
  "kernelspec": {
   "display_name": "Python 3",
   "language": "python",
   "name": "python3"
  },
  "language_info": {
   "codemirror_mode": {
    "name": "ipython",
    "version": 3
   },
   "file_extension": ".py",
   "mimetype": "text/x-python",
   "name": "python",
   "nbconvert_exporter": "python",
   "pygments_lexer": "ipython3",
   "version": "3.8.5"
  }
 },
 "nbformat": 4,
 "nbformat_minor": 2
}
